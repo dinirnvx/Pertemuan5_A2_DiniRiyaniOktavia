{
  "nbformat": 4,
  "nbformat_minor": 0,
  "metadata": {
    "colab": {
      "provenance": [],
      "toc_visible": true
    },
    "kernelspec": {
      "name": "python3",
      "display_name": "Python 3"
    },
    "language_info": {
      "name": "python"
    }
  },
  "cells": [
    {
      "cell_type": "markdown",
      "source": [
        "# Pertemuan 5"
      ],
      "metadata": {
        "id": "S2yvjE8A0FCZ"
      }
    },
    {
      "cell_type": "markdown",
      "source": [
        "## Latihan 1"
      ],
      "metadata": {
        "id": "e8v9lS7a8x-y"
      }
    },
    {
      "cell_type": "code",
      "source": [
        "# 1-10 bersilangan dengan 10-1\n",
        "x=1\n",
        "y=10\n",
        "while x<=10:\n",
        "    print(x, end=\"\")\n",
        "    print(y, end=\"\")\n",
        "    x=x+1\n",
        "    y=y-1\n"
      ],
      "metadata": {
        "colab": {
          "base_uri": "https://localhost:8080/"
        },
        "id": "p7cRavv98WXs",
        "outputId": "e630be9a-66cc-4c32-ea78-dd7d88f7883f"
      },
      "execution_count": 7,
      "outputs": [
        {
          "output_type": "stream",
          "name": "stdout",
          "text": [
            "1102938475665748392101"
          ]
        }
      ]
    },
    {
      "cell_type": "markdown",
      "source": [
        "## Latihan 2"
      ],
      "metadata": {
        "id": "q7q8P14l9nj1"
      }
    },
    {
      "cell_type": "code",
      "source": [
        "awal = int(input(\"Masukan saldo awal\\t:\"))\n",
        "sisa = awal #bila tidak ada pengeluaran\n",
        "while (True):\n",
        "    pengeluaran = int(input(\"Masukan pengeluaran hari ini (-1 untuk keluar): \"))\n",
        "    if pengeluaran ==-1: #untuk berhenti\n",
        "        print(\"Sisa saldo = \", sisa) #sisa bila di berhentikan\n",
        "        break\n",
        "    sisa = sisa - pengeluaran\n",
        "    if sisa <0:\n",
        "        print(\"Saldo tidak cukup\")\n",
        "        print(\"Sisa saldo \", sisa+pengeluaran)\n",
        "        break\n",
        "\n"
      ],
      "metadata": {
        "colab": {
          "base_uri": "https://localhost:8080/"
        },
        "id": "E_LbQuLh9srl",
        "outputId": "71cc5ec2-a9c5-41fa-af5c-ed54e63a38af"
      },
      "execution_count": 8,
      "outputs": [
        {
          "output_type": "stream",
          "name": "stdout",
          "text": [
            "Masukan saldo awal\t:10000\n",
            "Masukan pengeluaran hari ini (-1 untuk keluar): 5000\n",
            "Masukan pengeluaran hari ini (-1 untuk keluar): 3000\n",
            "Masukan pengeluaran hari ini (-1 untuk keluar): 7000\n",
            "Saldo tidak cukup\n",
            "Sisa saldo  2000\n"
          ]
        }
      ]
    },
    {
      "cell_type": "markdown",
      "source": [
        "## Latihan 3"
      ],
      "metadata": {
        "id": "qd_3jAYV91nX"
      }
    },
    {
      "cell_type": "code",
      "source": [
        "num = int(input(\"Perkalian tabel dari:\"))\n",
        "for i in range (1,11):\n",
        "    print(num,\"x\", i, \"=\", num*i)\n"
      ],
      "metadata": {
        "colab": {
          "base_uri": "https://localhost:8080/"
        },
        "id": "eWvA5Com93vr",
        "outputId": "b67907c3-7187-48f1-c21d-e99b9b19d524"
      },
      "execution_count": 9,
      "outputs": [
        {
          "output_type": "stream",
          "name": "stdout",
          "text": [
            "Perkalian tabel dari:7\n",
            "7 x 1 = 7\n",
            "7 x 2 = 14\n",
            "7 x 3 = 21\n",
            "7 x 4 = 28\n",
            "7 x 5 = 35\n",
            "7 x 6 = 42\n",
            "7 x 7 = 49\n",
            "7 x 8 = 56\n",
            "7 x 9 = 63\n",
            "7 x 10 = 70\n"
          ]
        }
      ]
    },
    {
      "cell_type": "markdown",
      "source": [
        "## Latihan 4\n",
        "\n",
        "\n",
        "\n",
        "\n"
      ],
      "metadata": {
        "id": "d9v6U8Q90vzv"
      }
    },
    {
      "cell_type": "code",
      "execution_count": 3,
      "metadata": {
        "colab": {
          "base_uri": "https://localhost:8080/"
        },
        "id": "IG97Kz8WxEgy",
        "outputId": "d89d9806-c978-4af2-c651-36114f0fd060"
      },
      "outputs": [
        {
          "output_type": "stream",
          "name": "stdout",
          "text": [
            "Masukan banyak data=3\n",
            "Masukan angka:2\n",
            "Masukan angka:3\n",
            "Masukan angka:5\n",
            "rata-rata =  3.3333333333333335\n"
          ]
        }
      ],
      "source": [
        "2#rata-rata\n",
        "jumlah_data=0\n",
        "data=1\n",
        "\n",
        "banyak_data=int(input(\"Masukan banyak data=\"))\n",
        "\n",
        "while data <= banyak_data:\n",
        "    nilai_data = int(input(\"Masukan angka:\"))\n",
        "    jumlah_data += nilai_data\n",
        "    data += 1\n",
        "\n",
        "    rata_rata = jumlah_data/banyak_data\n",
        "print(\"rata-rata = \",rata_rata)"
      ]
    },
    {
      "cell_type": "markdown",
      "source": [
        "## Latihan 5"
      ],
      "metadata": {
        "id": "Otd21u120ENy"
      }
    },
    {
      "cell_type": "code",
      "source": [
        "#Deklarasi variabel\n",
        "var_nilai = 0\n",
        "var_i = 1\n",
        "#Perulangan FOR\n",
        "for var_nilai in range (0,10) :\n",
        "    print(\"Perulangan pertama Ke \",var_nilai)\n",
        "    for var_i in range (1,3) :\n",
        "        print(\" Perulangan ke \", var_nilai,\", \",var_i)\n",
        "    #diluar perulangan var_i\n",
        "    var_i = 1\n",
        "#diluar_perulangan var_nilai\n",
        "print(\"var_nilai = \",int(var_nilai)+1,\" = 10. Bernilai False\")\n"
      ],
      "metadata": {
        "colab": {
          "base_uri": "https://localhost:8080/"
        },
        "id": "CJy4Da3dyJ7d",
        "outputId": "1f7a6417-04c1-4976-937d-5d797a1bed0b"
      },
      "execution_count": 4,
      "outputs": [
        {
          "output_type": "stream",
          "name": "stdout",
          "text": [
            "Perulangan pertama Ke  0\n",
            " Perulangan ke  0 ,  1\n",
            " Perulangan ke  0 ,  2\n",
            "Perulangan pertama Ke  1\n",
            " Perulangan ke  1 ,  1\n",
            " Perulangan ke  1 ,  2\n",
            "Perulangan pertama Ke  2\n",
            " Perulangan ke  2 ,  1\n",
            " Perulangan ke  2 ,  2\n",
            "Perulangan pertama Ke  3\n",
            " Perulangan ke  3 ,  1\n",
            " Perulangan ke  3 ,  2\n",
            "Perulangan pertama Ke  4\n",
            " Perulangan ke  4 ,  1\n",
            " Perulangan ke  4 ,  2\n",
            "Perulangan pertama Ke  5\n",
            " Perulangan ke  5 ,  1\n",
            " Perulangan ke  5 ,  2\n",
            "Perulangan pertama Ke  6\n",
            " Perulangan ke  6 ,  1\n",
            " Perulangan ke  6 ,  2\n",
            "Perulangan pertama Ke  7\n",
            " Perulangan ke  7 ,  1\n",
            " Perulangan ke  7 ,  2\n",
            "Perulangan pertama Ke  8\n",
            " Perulangan ke  8 ,  1\n",
            " Perulangan ke  8 ,  2\n",
            "Perulangan pertama Ke  9\n",
            " Perulangan ke  9 ,  1\n",
            " Perulangan ke  9 ,  2\n",
            "var_nilai =  10  = 10. Bernilai False\n"
          ]
        }
      ]
    },
    {
      "cell_type": "markdown",
      "source": [
        "## Latihan 6"
      ],
      "metadata": {
        "id": "EKmpmCJY2WFQ"
      }
    },
    {
      "cell_type": "code",
      "source": [
        "#Deklarasi variabel\n",
        "var_nilai = 0\n",
        "var_i = 1\n",
        "#Perulangan WHILE\n",
        "while (var_nilai < 10) :\n",
        "    print(\"Perulangan pertama Ke \",var_nilai)\n",
        "    while(var_i < 3) :\n",
        "        print(\" Perulangan ke \", var_nilai,\", \",var_i)\n",
        "        var_i +=1\n",
        "    #diluar perulangan var_i\n",
        "    var_i = 1\n",
        "    var_nilai +=1\n",
        "#diluar_perulangan var_nilai\n",
        "print(\"var_nilai = \",int(var_nilai),\" = 10. Bernilai False\")\n",
        "\n"
      ],
      "metadata": {
        "colab": {
          "base_uri": "https://localhost:8080/"
        },
        "id": "T47_Fr4N1Pma",
        "outputId": "8add3d4b-aa5d-4dfb-ff81-35aee89bf687"
      },
      "execution_count": 5,
      "outputs": [
        {
          "output_type": "stream",
          "name": "stdout",
          "text": [
            "Perulangan pertama Ke  0\n",
            " Perulangan ke  0 ,  1\n",
            " Perulangan ke  0 ,  2\n",
            "Perulangan pertama Ke  1\n",
            " Perulangan ke  1 ,  1\n",
            " Perulangan ke  1 ,  2\n",
            "Perulangan pertama Ke  2\n",
            " Perulangan ke  2 ,  1\n",
            " Perulangan ke  2 ,  2\n",
            "Perulangan pertama Ke  3\n",
            " Perulangan ke  3 ,  1\n",
            " Perulangan ke  3 ,  2\n",
            "Perulangan pertama Ke  4\n",
            " Perulangan ke  4 ,  1\n",
            " Perulangan ke  4 ,  2\n",
            "Perulangan pertama Ke  5\n",
            " Perulangan ke  5 ,  1\n",
            " Perulangan ke  5 ,  2\n",
            "Perulangan pertama Ke  6\n",
            " Perulangan ke  6 ,  1\n",
            " Perulangan ke  6 ,  2\n",
            "Perulangan pertama Ke  7\n",
            " Perulangan ke  7 ,  1\n",
            " Perulangan ke  7 ,  2\n",
            "Perulangan pertama Ke  8\n",
            " Perulangan ke  8 ,  1\n",
            " Perulangan ke  8 ,  2\n",
            "Perulangan pertama Ke  9\n",
            " Perulangan ke  9 ,  1\n",
            " Perulangan ke  9 ,  2\n",
            "var_nilai =  10  = 10. Bernilai False\n"
          ]
        }
      ]
    },
    {
      "cell_type": "markdown",
      "source": [
        "## Latihan 7"
      ],
      "metadata": {
        "id": "_Z-i9ZQ73nzT"
      }
    },
    {
      "cell_type": "code",
      "source": [
        "#Deklarasi variabel\n",
        "var_nilai = 0\n",
        "var_i = 1\n",
        "#Perulangan FOR\n",
        "for var_nilai in range (0,10) :\n",
        "    print(\"Perulangan pertama Ke \",var_nilai)\n",
        "    while(var_i < 3) :\n",
        "        print(\" Perulangan ke \", var_nilai,\", \",var_i)\n",
        "        var_i +=1\n",
        "    #diluar perulangan var_i\n",
        "    var_i = 1\n",
        "#diluar_perulangan var_nilai\n",
        "print(\"var_nilai = \",int(var_nilai)+1,\" = 10. Bernilai False\")\n"
      ],
      "metadata": {
        "colab": {
          "base_uri": "https://localhost:8080/"
        },
        "id": "46jn-XRU2dHK",
        "outputId": "c6868dc7-93de-4bda-cff1-a467312d9c57"
      },
      "execution_count": 6,
      "outputs": [
        {
          "output_type": "stream",
          "name": "stdout",
          "text": [
            "Perulangan pertama Ke  0\n",
            " Perulangan ke  0 ,  1\n",
            " Perulangan ke  0 ,  2\n",
            "Perulangan pertama Ke  1\n",
            " Perulangan ke  1 ,  1\n",
            " Perulangan ke  1 ,  2\n",
            "Perulangan pertama Ke  2\n",
            " Perulangan ke  2 ,  1\n",
            " Perulangan ke  2 ,  2\n",
            "Perulangan pertama Ke  3\n",
            " Perulangan ke  3 ,  1\n",
            " Perulangan ke  3 ,  2\n",
            "Perulangan pertama Ke  4\n",
            " Perulangan ke  4 ,  1\n",
            " Perulangan ke  4 ,  2\n",
            "Perulangan pertama Ke  5\n",
            " Perulangan ke  5 ,  1\n",
            " Perulangan ke  5 ,  2\n",
            "Perulangan pertama Ke  6\n",
            " Perulangan ke  6 ,  1\n",
            " Perulangan ke  6 ,  2\n",
            "Perulangan pertama Ke  7\n",
            " Perulangan ke  7 ,  1\n",
            " Perulangan ke  7 ,  2\n",
            "Perulangan pertama Ke  8\n",
            " Perulangan ke  8 ,  1\n",
            " Perulangan ke  8 ,  2\n",
            "Perulangan pertama Ke  9\n",
            " Perulangan ke  9 ,  1\n",
            " Perulangan ke  9 ,  2\n",
            "var_nilai =  10  = 10. Bernilai False\n"
          ]
        }
      ]
    },
    {
      "cell_type": "code",
      "source": [],
      "metadata": {
        "id": "qdepesdP32lB"
      },
      "execution_count": null,
      "outputs": []
    }
  ]
}